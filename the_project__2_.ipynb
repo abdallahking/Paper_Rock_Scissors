{
  "nbformat": 4,
  "nbformat_minor": 0,
  "metadata": {
    "colab": {
      "provenance": [],
      "collapsed_sections": [
        "AfvtbtS-0XBk"
      ]
    },
    "kernelspec": {
      "name": "python3",
      "display_name": "Python 3"
    },
    "language_info": {
      "name": "python"
    }
  },
  "cells": [
    {
      "cell_type": "markdown",
      "source": [
        "##The second project **:**\n",
        "**(**Paper Rock Scissors**)**"
      ],
      "metadata": {
        "id": "AfvtbtS-0XBk"
      }
    },
    {
      "cell_type": "code",
      "source": [
        "import random"
      ],
      "metadata": {
        "id": "blFiPwHb0uNC"
      },
      "execution_count": null,
      "outputs": []
    },
    {
      "cell_type": "code",
      "source": [
        "IS_playing = True\n",
        "win = 0\n",
        "lose = 0\n",
        "draw = 0\n",
        "Num = [1, 2, 3]\n",
        "words=[\"Scissors\", \"Paper\", \"Rock\"]\n",
        "Name = input(\"please enter your name: \")\n",
        "if Name == \"Abdallah\" :\n",
        "  print(\"Oh your name is the same of my name!\")\n",
        "  print(f'''welcome {Name} in your game:\n",
        "[Rock, Paper, Scissors]''')\n",
        "  print('''enjou with it.\n",
        "  ''')\n",
        "elif Name == \"Abdallah.\":\n",
        "  print('''welcome my king in your game:\n",
        "[Rock, Paper, Scissors]''')\n",
        "  print('''enjou with it.\n",
        "  ''')\n",
        "else :\n",
        "  print(f'''welcome {Name} in my game:\n",
        "[Rock, Paper, Scissors]''')\n",
        "  print('''enjou with it.\n",
        "  ''')\n",
        "I = 0\n",
        "while IS_playing:\n",
        "  game = int(input('''choose one from :\n",
        "  (1): Scissors.\n",
        "  (2): Paper.\n",
        "  (3): Rock\n",
        "  >>> : '''))\n",
        "\n",
        "  computer_choice = random.choice(words)\n",
        "  print(f\"the computer choose: {computer_choice}\")\n",
        "  if game == 1 and computer_choice == \"Paper\":\n",
        "    print(\"You are the winner🥳!\")\n",
        "    Calculation = win = win + 1\n",
        "  elif game == 2 and computer_choice == \"Rock\":\n",
        "    print(\"You are the winner🥳!\")\n",
        "    calculation = win = win + 1\n",
        "  elif game == 3 and computer_choice == \"Scissors\":\n",
        "    print(\"You are the winner🥳!\")\n",
        "    CAlculation = win = win + 1\n",
        "  elif game == 1 and computer_choice == \"Rock\":\n",
        "    print(\"I so sory you lose😢.\")\n",
        "    CAlCulation = lose = lose + 1\n",
        "  elif game == 2 and computer_choice == \"Scissors\" :\n",
        "    print(\"I so sory you lose😢.\")\n",
        "    CAlCUlation = lose = lose + 1\n",
        "  elif game == 3 and computer_choice == \"Paper\":\n",
        "    print(\"I so sory you lose😢.\")\n",
        "    CAlCULation = lose = lose + 1\n",
        "  else :\n",
        "    print(\"Draw😁.\")\n",
        "    CAlCULATION = draw = draw + 1\n",
        "\n",
        "  if game not in Num :\n",
        "    print(\"there is a proplem.\")\n",
        "    print(\"============== END OF THE GAME ==============\")\n",
        "    print('''Becouse you enter a number not from the\n",
        "    choices.\n",
        "    you shoud enter '1', '2', '3'. ''')\n",
        "    IS_playing = False\n",
        "  else:\n",
        "    print(\"============== END OF THIS GAME ==============\")\n",
        "  CLOSE_the_game=int(input('''Are you want to play again?\n",
        "  1) Yes.\n",
        "  2) No.\n",
        "  >>> '''))\n",
        "  if CLOSE_the_game == 1:\n",
        "    IS_playing = True\n",
        "  elif CLOSE_the_game == 2:\n",
        "    break\n",
        "  I = I + 1\n",
        "\n",
        "print(f'''Look {Name} you are good in this game, but this is your results:\n",
        "  you win for {win}.\n",
        "  you have a draw for {draw}.\n",
        "  and you lose for {lose}.''')\n",
        "print(f\"you play for {I + 1}\")\n",
        "if win + draw > lose:\n",
        "  print(\"Go up and keep it mind.\")\n",
        "elif win < lose :\n",
        "  print(\"No proplem.\")\n",
        "print(\"============== END OF THE GAME ==============\")"
      ],
      "metadata": {
        "id": "h5w16sDJ0x7a"
      },
      "execution_count": null,
      "outputs": []
    }
  ]
}